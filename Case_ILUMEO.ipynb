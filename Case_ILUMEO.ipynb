{
  "nbformat": 4,
  "nbformat_minor": 0,
  "metadata": {
    "colab": {
      "name": "Case_ILUMEO.ipynb",
      "provenance": [],
      "mount_file_id": "https://github.com/carolvieirav/Case_ILUMEO/blob/main/Case_ILUMEO.ipynb",
      "authorship_tag": "ABX9TyNYW1IZp3UH/erL0a5TILpU",
      "include_colab_link": true
    },
    "kernelspec": {
      "name": "python3",
      "display_name": "Python 3"
    },
    "language_info": {
      "name": "python"
    }
  },
  "cells": [
    {
      "cell_type": "markdown",
      "metadata": {
        "id": "view-in-github",
        "colab_type": "text"
      },
      "source": [
        "<a href=\"https://colab.research.google.com/github/carolvieirav/Case_ILUMEO/blob/main/Case_ILUMEO.ipynb\" target=\"_parent\"><img src=\"https://colab.research.google.com/assets/colab-badge.svg\" alt=\"Open In Colab\"/></a>"
      ]
    },
    {
      "cell_type": "code",
      "metadata": {
        "id": "gJW3Hbk2qJII"
      },
      "source": [
        "import pandas as pd\n",
        "import numpy as np\n",
        "import re\n",
        "import datetime"
      ],
      "execution_count": 1,
      "outputs": []
    },
    {
      "cell_type": "code",
      "metadata": {
        "id": "-3DPqiedrjmv"
      },
      "source": [
        "df = pd.read_excel('/content/drive/MyDrive/ILUMEO - Case - Base de Dados.xlsx')\n",
        "df.head()"
      ],
      "execution_count": null,
      "outputs": []
    },
    {
      "cell_type": "code",
      "metadata": {
        "colab": {
          "base_uri": "https://localhost:8080/"
        },
        "id": "o_sFv1zFrxr1",
        "outputId": "bba032d6-b486-4708-de87-bda416a8c9d7"
      },
      "source": [
        "df.info()"
      ],
      "execution_count": 3,
      "outputs": [
        {
          "output_type": "stream",
          "text": [
            "<class 'pandas.core.frame.DataFrame'>\n",
            "RangeIndex: 511 entries, 0 to 510\n",
            "Columns: 210 entries, Q01respondent_id to Q75Identificacao3\n",
            "dtypes: float64(11), int64(117), object(82)\n",
            "memory usage: 838.5+ KB\n"
          ],
          "name": "stdout"
        }
      ]
    },
    {
      "cell_type": "code",
      "metadata": {
        "id": "baiy3yq5yfsQ"
      },
      "source": [
        "#df.dropna(axis='columns', thresh=400, inplace=True) # drop columns with more than 400 rows with NaN"
      ],
      "execution_count": 4,
      "outputs": []
    },
    {
      "cell_type": "code",
      "metadata": {
        "colab": {
          "base_uri": "https://localhost:8080/"
        },
        "id": "lXaoJPNe1LSn",
        "outputId": "46f1878d-1e6e-4c72-f3dc-aaf653b488cb"
      },
      "source": [
        "len(df.columns)"
      ],
      "execution_count": 5,
      "outputs": [
        {
          "output_type": "execute_result",
          "data": {
            "text/plain": [
              "210"
            ]
          },
          "metadata": {
            "tags": []
          },
          "execution_count": 5
        }
      ]
    },
    {
      "cell_type": "code",
      "metadata": {
        "id": "UM4vwUIY_2a_"
      },
      "source": [
        "#df = df.rename(columns=lambda x : re.sub('Q[0-9][0-9]','',x)) # renaming columns"
      ],
      "execution_count": 6,
      "outputs": []
    },
    {
      "cell_type": "code",
      "metadata": {
        "id": "Tk_lZqDV-Pvg"
      },
      "source": [
        "df[['Q06semanadoano', 'Q09semanadoprojeto', 'Q15Idade']] = df[['Q06semanadoano', 'Q09semanadoprojeto', 'Q15Idade']].replace('[^0-9]','', regex=True) \n",
        "# transforming selected columns in numerics ones"
      ],
      "execution_count": 7,
      "outputs": []
    },
    {
      "cell_type": "code",
      "metadata": {
        "id": "JLz-tQ47aPay"
      },
      "source": [
        "d = {'value1': df.Q17Renda.str.split().str[2],\n",
        "     'value2': df.Q17Renda.str.split().str[5]}\n",
        "df_renda = pd.DataFrame(data=d) # creating a dataset with the values of salary\n",
        "\n",
        "df_renda.replace('[^0-9]','', regex=True, inplace=True)\n",
        "\n",
        "df_renda['value1'] = pd.to_numeric(df_renda['value1'])\n",
        "df_renda['value2'] = pd.to_numeric(df_renda['value2']) # str to numeric\n",
        "\n",
        "df_renda['average'] = df_renda.mean(numeric_only=True, axis=1) # calcute the mean of salary range\n",
        "\n",
        "df['Q17Renda'] = df_renda['average'] # incorporate salary mean information to df"
      ],
      "execution_count": 8,
      "outputs": []
    },
    {
      "cell_type": "code",
      "metadata": {
        "id": "tHLiCCaPf9h8"
      },
      "source": [
        "df2 = df.filter(regex=r'^Q[0-9]')\n",
        "q_dict = {col_prefix: df_i for col_prefix, df_i in df2.groupby(df2.columns.str[:3], axis=1)} \n",
        "# create a dictionary with all the columns sumarized by their question number "
      ],
      "execution_count": 101,
      "outputs": []
    },
    {
      "cell_type": "code",
      "metadata": {
        "colab": {
          "base_uri": "https://localhost:8080/",
          "height": 424
        },
        "id": "gqJ5xkSCIJwq",
        "outputId": "34779a5b-fce9-4b1d-998d-a095e66101a2"
      },
      "source": [
        "for value in q_dict:\n",
        "  qdf= pd.DataFrame(q_dict[value])\n",
        "q"
      ],
      "execution_count": 185,
      "outputs": [
        {
          "output_type": "execute_result",
          "data": {
            "text/html": [
              "<div>\n",
              "<style scoped>\n",
              "    .dataframe tbody tr th:only-of-type {\n",
              "        vertical-align: middle;\n",
              "    }\n",
              "\n",
              "    .dataframe tbody tr th {\n",
              "        vertical-align: top;\n",
              "    }\n",
              "\n",
              "    .dataframe thead th {\n",
              "        text-align: right;\n",
              "    }\n",
              "</style>\n",
              "<table border=\"1\" class=\"dataframe\">\n",
              "  <thead>\n",
              "    <tr style=\"text-align: right;\">\n",
              "      <th></th>\n",
              "      <th>Q75Identificacao1</th>\n",
              "      <th>Q75Identificacao2</th>\n",
              "      <th>Q75Identificacao3</th>\n",
              "    </tr>\n",
              "  </thead>\n",
              "  <tbody>\n",
              "    <tr>\n",
              "      <th>0</th>\n",
              "      <td>0</td>\n",
              "      <td>0</td>\n",
              "      <td>0</td>\n",
              "    </tr>\n",
              "    <tr>\n",
              "      <th>1</th>\n",
              "      <td>3</td>\n",
              "      <td>3</td>\n",
              "      <td>0</td>\n",
              "    </tr>\n",
              "    <tr>\n",
              "      <th>2</th>\n",
              "      <td>8</td>\n",
              "      <td>8</td>\n",
              "      <td>7</td>\n",
              "    </tr>\n",
              "    <tr>\n",
              "      <th>3</th>\n",
              "      <td>9</td>\n",
              "      <td>6</td>\n",
              "      <td>10</td>\n",
              "    </tr>\n",
              "    <tr>\n",
              "      <th>4</th>\n",
              "      <td>5</td>\n",
              "      <td>6</td>\n",
              "      <td>0</td>\n",
              "    </tr>\n",
              "    <tr>\n",
              "      <th>...</th>\n",
              "      <td>...</td>\n",
              "      <td>...</td>\n",
              "      <td>...</td>\n",
              "    </tr>\n",
              "    <tr>\n",
              "      <th>506</th>\n",
              "      <td>5</td>\n",
              "      <td>4</td>\n",
              "      <td>5</td>\n",
              "    </tr>\n",
              "    <tr>\n",
              "      <th>507</th>\n",
              "      <td>10</td>\n",
              "      <td>10</td>\n",
              "      <td>10</td>\n",
              "    </tr>\n",
              "    <tr>\n",
              "      <th>508</th>\n",
              "      <td>7</td>\n",
              "      <td>8</td>\n",
              "      <td>5</td>\n",
              "    </tr>\n",
              "    <tr>\n",
              "      <th>509</th>\n",
              "      <td>6</td>\n",
              "      <td>6</td>\n",
              "      <td>6</td>\n",
              "    </tr>\n",
              "    <tr>\n",
              "      <th>510</th>\n",
              "      <td>6</td>\n",
              "      <td>8</td>\n",
              "      <td>3</td>\n",
              "    </tr>\n",
              "  </tbody>\n",
              "</table>\n",
              "<p>511 rows × 3 columns</p>\n",
              "</div>"
            ],
            "text/plain": [
              "     Q75Identificacao1  Q75Identificacao2  Q75Identificacao3\n",
              "0                    0                  0                  0\n",
              "1                    3                  3                  0\n",
              "2                    8                  8                  7\n",
              "3                    9                  6                 10\n",
              "4                    5                  6                  0\n",
              "..                 ...                ...                ...\n",
              "506                  5                  4                  5\n",
              "507                 10                 10                 10\n",
              "508                  7                  8                  5\n",
              "509                  6                  6                  6\n",
              "510                  6                  8                  3\n",
              "\n",
              "[511 rows x 3 columns]"
            ]
          },
          "metadata": {
            "tags": []
          },
          "execution_count": 185
        }
      ]
    },
    {
      "cell_type": "code",
      "metadata": {
        "id": "-YhajbFZGpQ5"
      },
      "source": [
        "q18 = pd.DataFrame(q_dict['Q18'])\n",
        "\n",
        "q18array = q18['Q18PossuiSeguroSeguro de vida'].unique()\n",
        "\n",
        "#q18['Q18PossuiSeguroSeguro de vida'][q18['Q18PossuiSeguroSeguro de vida'] == q18array[0]] = 0\n",
        "\n",
        "#q18['Q18PossuiSeguroSeguro de vida'][q18['Q18PossuiSeguroSeguro de vida'] == q18array[1]] = 1\n"
      ],
      "execution_count": 175,
      "outputs": []
    },
    {
      "cell_type": "code",
      "metadata": {
        "id": "bBU7z9Q-LLrZ"
      },
      "source": [
        "def binary_transform(x):\n",
        "\n",
        "  for value in x:\n",
        "    qdf= pd.DataFrame(q_dict[value])\n",
        "\n",
        "    for col in qdf:\n",
        "      qarray = x[col].unique()\n",
        "      \n",
        "      x[col][x[col] == qarray[0]] = 0\n",
        "      x[col][x[col] == qarray[1]] = 1\n",
        "\n",
        "      return x\n",
        "\n",
        "binary_transform(q_dict)"
      ],
      "execution_count": null,
      "outputs": []
    },
    {
      "cell_type": "code",
      "metadata": {
        "id": "y0zSrGaoEiGI"
      },
      "source": [
        "df.to_excel('df.xlsx')"
      ],
      "execution_count": 160,
      "outputs": []
    },
    {
      "cell_type": "code",
      "metadata": {
        "id": "xJa3hcM6HrYh"
      },
      "source": [
        ""
      ],
      "execution_count": null,
      "outputs": []
    }
  ]
}